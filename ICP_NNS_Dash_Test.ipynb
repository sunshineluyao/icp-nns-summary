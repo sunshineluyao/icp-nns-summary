{
  "cells": [
    {
      "cell_type": "markdown",
      "metadata": {
        "id": "view-in-github",
        "colab_type": "text"
      },
      "source": [
        "<a href=\"https://colab.research.google.com/github/sunshineluyao/icp-nns-summary/blob/main/ICP_NNS_Dash_Test.ipynb\" target=\"_parent\"><img src=\"https://colab.research.google.com/assets/colab-badge.svg\" alt=\"Open In Colab\"/></a>"
      ]
    },
    {
      "cell_type": "code",
      "execution_count": null,
      "metadata": {
        "colab": {
          "base_uri": "https://localhost:8080/"
        },
        "id": "xnlC9e71M9gj",
        "outputId": "783e631f-aeb5-41c8-ee27-566f4aa0ad54"
      },
      "outputs": [
        {
          "output_type": "stream",
          "name": "stdout",
          "text": [
            "Requirement already satisfied: dash in /usr/local/lib/python3.10/dist-packages (2.14.2)\n",
            "Requirement already satisfied: Flask<3.1,>=1.0.4 in /usr/local/lib/python3.10/dist-packages (from dash) (2.2.5)\n",
            "Requirement already satisfied: Werkzeug<3.1 in /usr/local/lib/python3.10/dist-packages (from dash) (3.0.1)\n",
            "Requirement already satisfied: plotly>=5.0.0 in /usr/local/lib/python3.10/dist-packages (from dash) (5.15.0)\n",
            "Requirement already satisfied: dash-html-components==2.0.0 in /usr/local/lib/python3.10/dist-packages (from dash) (2.0.0)\n",
            "Requirement already satisfied: dash-core-components==2.0.0 in /usr/local/lib/python3.10/dist-packages (from dash) (2.0.0)\n",
            "Requirement already satisfied: dash-table==5.0.0 in /usr/local/lib/python3.10/dist-packages (from dash) (5.0.0)\n",
            "Requirement already satisfied: typing-extensions>=4.1.1 in /usr/local/lib/python3.10/dist-packages (from dash) (4.5.0)\n",
            "Requirement already satisfied: requests in /usr/local/lib/python3.10/dist-packages (from dash) (2.31.0)\n",
            "Requirement already satisfied: retrying in /usr/local/lib/python3.10/dist-packages (from dash) (1.3.4)\n",
            "Requirement already satisfied: ansi2html in /usr/local/lib/python3.10/dist-packages (from dash) (1.9.1)\n",
            "Requirement already satisfied: nest-asyncio in /usr/local/lib/python3.10/dist-packages (from dash) (1.5.8)\n",
            "Requirement already satisfied: setuptools in /usr/local/lib/python3.10/dist-packages (from dash) (67.7.2)\n",
            "Requirement already satisfied: importlib-metadata in /usr/local/lib/python3.10/dist-packages (from dash) (7.0.0)\n",
            "Requirement already satisfied: Jinja2>=3.0 in /usr/local/lib/python3.10/dist-packages (from Flask<3.1,>=1.0.4->dash) (3.1.2)\n",
            "Requirement already satisfied: itsdangerous>=2.0 in /usr/local/lib/python3.10/dist-packages (from Flask<3.1,>=1.0.4->dash) (2.1.2)\n",
            "Requirement already satisfied: click>=8.0 in /usr/local/lib/python3.10/dist-packages (from Flask<3.1,>=1.0.4->dash) (8.1.7)\n",
            "Requirement already satisfied: tenacity>=6.2.0 in /usr/local/lib/python3.10/dist-packages (from plotly>=5.0.0->dash) (8.2.3)\n",
            "Requirement already satisfied: packaging in /usr/local/lib/python3.10/dist-packages (from plotly>=5.0.0->dash) (23.2)\n",
            "Requirement already satisfied: MarkupSafe>=2.1.1 in /usr/local/lib/python3.10/dist-packages (from Werkzeug<3.1->dash) (2.1.3)\n",
            "Requirement already satisfied: zipp>=0.5 in /usr/local/lib/python3.10/dist-packages (from importlib-metadata->dash) (3.17.0)\n",
            "Requirement already satisfied: charset-normalizer<4,>=2 in /usr/local/lib/python3.10/dist-packages (from requests->dash) (3.3.2)\n",
            "Requirement already satisfied: idna<4,>=2.5 in /usr/local/lib/python3.10/dist-packages (from requests->dash) (3.6)\n",
            "Requirement already satisfied: urllib3<3,>=1.21.1 in /usr/local/lib/python3.10/dist-packages (from requests->dash) (2.0.7)\n",
            "Requirement already satisfied: certifi>=2017.4.17 in /usr/local/lib/python3.10/dist-packages (from requests->dash) (2023.11.17)\n",
            "Requirement already satisfied: six>=1.7.0 in /usr/local/lib/python3.10/dist-packages (from retrying->dash) (1.16.0)\n"
          ]
        }
      ],
      "source": [
        "pip install dash"
      ]
    },
    {
      "cell_type": "code",
      "execution_count": null,
      "metadata": {
        "id": "7krBA834M0bf"
      },
      "outputs": [],
      "source": [
        "import dash\n",
        "from dash import dcc, html\n",
        "from dash.dependencies import Input, Output\n",
        "import pandas as pd\n",
        "import plotly.express as px"
      ]
    },
    {
      "cell_type": "code",
      "source": [
        "import dash\n",
        "from dash import dcc, html\n",
        "from dash.dependencies import Input, Output\n",
        "import pandas as pd\n",
        "import plotly.express as px\n",
        "from collections import Counter\n",
        "import nltk\n",
        "from nltk.corpus import stopwords\n",
        "from nltk.tokenize import word_tokenize\n",
        "\n",
        "# Ensure NLTK components are downloaded\n",
        "nltk.download('punkt')\n",
        "nltk.download('stopwords')\n",
        "\n",
        "# Load the CSV data from the provided link\n",
        "url = \"https://media.githubusercontent.com/media/sunshineluyao/icp-nns-db/main/data/proposals_no_empty.csv\"\n",
        "df = pd.read_csv(url)\n",
        "\n",
        "# Preprocess the data (basic cleaning and tokenization)\n",
        "# Preprocess the data\n",
        "def preprocess_text(text):\n",
        "    # Check if the text is a string\n",
        "    if not isinstance(text, str):\n",
        "        return ''  # Return an empty string if text is not a string\n",
        "\n",
        "    tokens = word_tokenize(text.lower())\n",
        "    tokens = [t for t in tokens if t.isalpha()]\n",
        "    tokens = [t for t in tokens if t not in stopwords.words('english')]\n",
        "    return ' '.join(tokens)\n",
        "\n",
        "df['processed_summary'] = df['summary'].apply(preprocess_text)\n",
        "\n",
        "# Initialize the Dash app\n",
        "app = dash.Dash(__name__)\n",
        "\n",
        "# Layout of the app\n",
        "app.layout = html.Div([\n",
        "    html.H1(\"ICP NNS Proposal Summaries Analysis\"),\n",
        "    dcc.Dropdown(\n",
        "        id='topic-dropdown',\n",
        "        options=[{'label': topic, 'value': topic} for topic in df['topic'].unique()],\n",
        "        value=df['topic'].unique()[0],\n",
        "        multi=False\n",
        "    ),\n",
        "    dcc.Graph(id='nlp-plot')\n",
        "])\n",
        "\n",
        "# Callback for updating the plot based on the selected topic\n",
        "@app.callback(\n",
        "    Output('nlp-plot', 'figure'),\n",
        "    Input('topic-dropdown', 'value')\n",
        ")\n",
        "def update_nlp_plot(selected_topic):\n",
        "    filtered_df = df[df['topic'] == selected_topic]\n",
        "    all_words = sum(filtered_df['processed_summary'], [])\n",
        "    word_freq = Counter(all_words)\n",
        "    most_common_words = word_freq.most_common(10)  # Top 10 words\n",
        "\n",
        "    fig = px.bar(x=[word for word, freq in most_common_words], y=[freq for word, freq in most_common_words], title=f'Top Words in Summaries for Topic: {selected_topic}')\n",
        "    return fig\n",
        "\n",
        "# Run the Dash app\n",
        "if __name__ == '__main__':\n",
        "    app.run_server(debug=True)\n"
      ],
      "metadata": {
        "colab": {
          "base_uri": "https://localhost:8080/",
          "height": 742
        },
        "id": "JpWaLmD-Ztnd",
        "outputId": "7eefb5bb-8b2f-4648-95c0-ef28e9b28c36"
      },
      "execution_count": 15,
      "outputs": [
        {
          "output_type": "stream",
          "name": "stderr",
          "text": [
            "[nltk_data] Downloading package punkt to /root/nltk_data...\n",
            "[nltk_data]   Package punkt is already up-to-date!\n",
            "[nltk_data] Downloading package stopwords to /root/nltk_data...\n",
            "[nltk_data]   Package stopwords is already up-to-date!\n"
          ]
        },
        {
          "output_type": "display_data",
          "data": {
            "text/plain": [
              "<IPython.core.display.Javascript object>"
            ],
            "application/javascript": [
              "(async (port, path, width, height, cache, element) => {\n",
              "    if (!google.colab.kernel.accessAllowed && !cache) {\n",
              "      return;\n",
              "    }\n",
              "    element.appendChild(document.createTextNode(''));\n",
              "    const url = await google.colab.kernel.proxyPort(port, {cache});\n",
              "    const iframe = document.createElement('iframe');\n",
              "    iframe.src = new URL(path, url).toString();\n",
              "    iframe.height = height;\n",
              "    iframe.width = width;\n",
              "    iframe.style.border = 0;\n",
              "    iframe.allow = [\n",
              "        'accelerometer',\n",
              "        'autoplay',\n",
              "        'camera',\n",
              "        'clipboard-read',\n",
              "        'clipboard-write',\n",
              "        'gyroscope',\n",
              "        'magnetometer',\n",
              "        'microphone',\n",
              "        'serial',\n",
              "        'usb',\n",
              "        'xr-spatial-tracking',\n",
              "    ].join('; ');\n",
              "    element.appendChild(iframe);\n",
              "  })(8050, \"/\", \"100%\", 650, false, window.element)"
            ]
          },
          "metadata": {}
        }
      ]
    },
    {
      "cell_type": "code",
      "source": [
        "import dash\n",
        "from dash import dcc, html\n",
        "from dash.dependencies import Input, Output\n",
        "import pandas as pd\n",
        "from wordcloud import WordCloud\n",
        "import base64\n",
        "from io import BytesIO\n",
        "import nltk\n",
        "from nltk.corpus import stopwords\n",
        "from nltk.tokenize import word_tokenize\n",
        "\n",
        "# Ensure NLTK components are downloaded\n",
        "nltk.download('punkt')\n",
        "nltk.download('stopwords')\n",
        "\n",
        "# Load the CSV data from the provided link\n",
        "url = \"https://media.githubusercontent.com/media/sunshineluyao/icp-nns-db/main/data/proposals_no_empty.csv\"\n",
        "df = pd.read_csv(url)\n",
        "\n",
        "# Preprocess the data\n",
        "def preprocess_text(text):\n",
        "    # Check if the text is a string\n",
        "    if not isinstance(text, str):\n",
        "        return ''  # Return an empty string if text is not a string\n",
        "\n",
        "    tokens = word_tokenize(text.lower())\n",
        "    tokens = [t for t in tokens if t.isalpha()]\n",
        "    tokens = [t for t in tokens if t not in stopwords.words('english')]\n",
        "    return ' '.join(tokens)\n",
        "\n",
        "df['processed_summary'] = df['summary'].apply(preprocess_text)\n",
        "\n",
        "# Function to create a word cloud image\n",
        "def create_wordcloud(text):\n",
        "    # Generate the word cloud with higher resolution\n",
        "    wordcloud = WordCloud(width=1600, height=800, background_color='white', colormap='RdBu').generate(text)\n",
        "\n",
        "    # Save the word cloud to a buffer\n",
        "    buffer = BytesIO()\n",
        "    wordcloud.to_image().save(buffer, 'png', quality=100)\n",
        "    return 'data:image/png;base64,' + base64.b64encode(buffer.getvalue()).decode()\n",
        "\n",
        "# Initialize the Dash app\n",
        "app = dash.Dash(__name__)\n",
        "\n",
        "# Layout of the app\n",
        "app.layout = html.Div([\n",
        "    html.H1(\"ICP NNS Proposal Summaries Word Cloud\"),\n",
        "    dcc.Dropdown(\n",
        "        id='topic-dropdown',\n",
        "        options=[{'label': topic, 'value': topic} for topic in df['topic'].unique()],\n",
        "        value=df['topic'].unique()[0],\n",
        "        multi=False\n",
        "    ),\n",
        "    html.Img(id='wordcloud-image', style={'width': '100%', 'height': 'auto'})\n",
        "])\n",
        "\n",
        "# Callback for updating the word cloud based on the selected topic\n",
        "@app.callback(\n",
        "    Output('wordcloud-image', 'src'),\n",
        "    Input('topic-dropdown', 'value')\n",
        ")\n",
        "def update_wordcloud(selected_topic):\n",
        "    filtered_df = df[df['topic'] == selected_topic]\n",
        "    combined_text = ' '.join(filtered_df['processed_summary'])\n",
        "    return create_wordcloud(combined_text)\n",
        "\n",
        "# Run the Dash app\n",
        "if __name__ == '__main__':\n",
        "    app.run_server(debug=True)\n"
      ],
      "metadata": {
        "colab": {
          "base_uri": "https://localhost:8080/",
          "height": 742
        },
        "id": "JEJFPUmEp37u",
        "outputId": "829e926d-bd21-48a7-8412-a38b576a5fad"
      },
      "execution_count": 13,
      "outputs": [
        {
          "output_type": "stream",
          "name": "stderr",
          "text": [
            "[nltk_data] Downloading package punkt to /root/nltk_data...\n",
            "[nltk_data]   Package punkt is already up-to-date!\n",
            "[nltk_data] Downloading package stopwords to /root/nltk_data...\n",
            "[nltk_data]   Package stopwords is already up-to-date!\n"
          ]
        },
        {
          "output_type": "display_data",
          "data": {
            "text/plain": [
              "<IPython.core.display.Javascript object>"
            ],
            "application/javascript": [
              "(async (port, path, width, height, cache, element) => {\n",
              "    if (!google.colab.kernel.accessAllowed && !cache) {\n",
              "      return;\n",
              "    }\n",
              "    element.appendChild(document.createTextNode(''));\n",
              "    const url = await google.colab.kernel.proxyPort(port, {cache});\n",
              "    const iframe = document.createElement('iframe');\n",
              "    iframe.src = new URL(path, url).toString();\n",
              "    iframe.height = height;\n",
              "    iframe.width = width;\n",
              "    iframe.style.border = 0;\n",
              "    iframe.allow = [\n",
              "        'accelerometer',\n",
              "        'autoplay',\n",
              "        'camera',\n",
              "        'clipboard-read',\n",
              "        'clipboard-write',\n",
              "        'gyroscope',\n",
              "        'magnetometer',\n",
              "        'microphone',\n",
              "        'serial',\n",
              "        'usb',\n",
              "        'xr-spatial-tracking',\n",
              "    ].join('; ');\n",
              "    element.appendChild(iframe);\n",
              "  })(8050, \"/\", \"100%\", 650, false, window.element)"
            ]
          },
          "metadata": {}
        }
      ]
    },
    {
      "cell_type": "code",
      "source": [
        "import dash\n",
        "from dash import dcc, html\n",
        "from dash.dependencies import Input, Output\n",
        "import pandas as pd\n",
        "from wordcloud import WordCloud\n",
        "import base64\n",
        "from io import BytesIO\n",
        "import nltk\n",
        "from nltk.corpus import stopwords\n",
        "from nltk.tokenize import word_tokenize\n",
        "\n",
        "# Ensure NLTK components are downloaded\n",
        "nltk.download('punkt')\n",
        "nltk.download('stopwords')\n",
        "\n",
        "# Load the CSV data from the provided link\n",
        "url = \"https://media.githubusercontent.com/media/sunshineluyao/icp-nns-db/main/data/proposals_no_empty.csv\"\n",
        "df = pd.read_csv(url)\n",
        "\n",
        "# Preprocess the data\n",
        "def preprocess_text(text):\n",
        "    # Check if the text is a string\n",
        "    if not isinstance(text, str):\n",
        "        return ''  # Return an empty string if text is not a string\n",
        "\n",
        "    tokens = word_tokenize(text.lower())\n",
        "    tokens = [t for t in tokens if t.isalpha()]\n",
        "    tokens = [t for t in tokens if t not in stopwords.words('english')]\n",
        "    return ' '.join(tokens)\n",
        "\n",
        "df['processed_summary'] = df['summary'].apply(preprocess_text)\n",
        "\n",
        "# Function to create a word cloud image\n",
        "def create_wordcloud(text):\n",
        "    wordcloud = WordCloud(width=800, height=400, background_color ='white').generate(text)\n",
        "    buffer = BytesIO()\n",
        "    wordcloud.to_image().save(buffer, 'png')\n",
        "    return 'data:image/png;base64,' + base64.b64encode(buffer.getvalue()).decode()\n",
        "\n",
        "# Initialize the Dash app\n",
        "app = dash.Dash(__name__)\n",
        "\n",
        "# Layout of the app\n",
        "app.layout = html.Div([\n",
        "    html.H1(\"ICP NNS Proposal Summaries Word Cloud\"),\n",
        "    dcc.Dropdown(\n",
        "        id='topic-dropdown',\n",
        "        options=[{'label': topic, 'value': topic} for topic in df['topic'].unique()],\n",
        "        value=df['topic'].unique()[0],\n",
        "        multi=False\n",
        "    ),\n",
        "    html.Img(id='wordcloud-image')\n",
        "])\n",
        "\n",
        "# Callback for updating the word cloud based on the selected topic\n",
        "@app.callback(\n",
        "    Output('wordcloud-image', 'src'),\n",
        "    Input('topic-dropdown', 'value')\n",
        ")\n",
        "def update_wordcloud(selected_topic):\n",
        "    filtered_df = df[df['topic'] == selected_topic]\n",
        "    combined_text = ' '.join(filtered_df['processed_summary'])\n",
        "    return create_wordcloud(combined_text)\n",
        "\n",
        "# Run the Dash app\n",
        "if __name__ == '__main__':\n",
        "    app.run_server(debug=True)\n"
      ],
      "metadata": {
        "colab": {
          "base_uri": "https://localhost:8080/",
          "height": 742
        },
        "id": "4f6crhQ4Zy8w",
        "outputId": "98b547d0-0f61-4bef-a12c-3f33d6213c9a"
      },
      "execution_count": null,
      "outputs": [
        {
          "output_type": "stream",
          "name": "stderr",
          "text": [
            "[nltk_data] Downloading package punkt to /root/nltk_data...\n",
            "[nltk_data]   Package punkt is already up-to-date!\n",
            "[nltk_data] Downloading package stopwords to /root/nltk_data...\n",
            "[nltk_data]   Package stopwords is already up-to-date!\n"
          ]
        },
        {
          "output_type": "display_data",
          "data": {
            "text/plain": [
              "<IPython.core.display.Javascript object>"
            ],
            "application/javascript": [
              "(async (port, path, width, height, cache, element) => {\n",
              "    if (!google.colab.kernel.accessAllowed && !cache) {\n",
              "      return;\n",
              "    }\n",
              "    element.appendChild(document.createTextNode(''));\n",
              "    const url = await google.colab.kernel.proxyPort(port, {cache});\n",
              "    const iframe = document.createElement('iframe');\n",
              "    iframe.src = new URL(path, url).toString();\n",
              "    iframe.height = height;\n",
              "    iframe.width = width;\n",
              "    iframe.style.border = 0;\n",
              "    iframe.allow = [\n",
              "        'accelerometer',\n",
              "        'autoplay',\n",
              "        'camera',\n",
              "        'clipboard-read',\n",
              "        'clipboard-write',\n",
              "        'gyroscope',\n",
              "        'magnetometer',\n",
              "        'microphone',\n",
              "        'serial',\n",
              "        'usb',\n",
              "        'xr-spatial-tracking',\n",
              "    ].join('; ');\n",
              "    element.appendChild(iframe);\n",
              "  })(8050, \"/\", \"100%\", 650, false, window.element)"
            ]
          },
          "metadata": {}
        }
      ]
    },
    {
      "cell_type": "code",
      "execution_count": null,
      "metadata": {
        "id": "3zH6k8qrM6An"
      },
      "outputs": [],
      "source": [
        "# Load the CSV data from the provided link\n",
        "url = \"https://media.githubusercontent.com/media/sunshineluyao/icp-nns-db/main/data/proposals_no_empty.csv\"\n",
        "df = pd.read_csv(url)"
      ]
    },
    {
      "cell_type": "code",
      "execution_count": null,
      "metadata": {
        "colab": {
          "base_uri": "https://localhost:8080/"
        },
        "id": "7h6Ze-ZfYJ_u",
        "outputId": "a0fdefc5-1e4c-499e-dc83-8ee8d3e1c1e0"
      },
      "outputs": [
        {
          "output_type": "execute_result",
          "data": {
            "text/plain": [
              "Index(['action', 'action_nns_function', 'deadline_timestamp_seconds',\n",
              "       'decided_timestamp_seconds', 'executed_timestamp_seconds',\n",
              "       'failed_timestamp_seconds', 'id', 'known_neurons_ballots',\n",
              "       'latest_tally', 'payload', 'proposal_id', 'proposal_timestamp_seconds',\n",
              "       'proposer', 'reject_cost_e8s', 'reward_status', 'settled_at', 'status',\n",
              "       'summary', 'title', 'topic', 'updated_at', 'url'],\n",
              "      dtype='object')"
            ]
          },
          "metadata": {},
          "execution_count": 5
        }
      ],
      "source": [
        "df.columns"
      ]
    },
    {
      "cell_type": "code",
      "execution_count": null,
      "metadata": {
        "id": "9lT4-A6vNGrz"
      },
      "outputs": [],
      "source": [
        "# Initialize the Dash app\n",
        "app = dash.Dash(__name__)\n",
        "\n",
        "# Create a bar plot using Plotly Express with a log-scale y-axis\n",
        "fig = px.bar(df['action'].value_counts(), x=df['action'].value_counts().index, y=df['action'].value_counts().values,\n",
        "             labels={'x': 'Action', 'y': 'Count'}, title='Distribution of Actions')\n",
        "\n",
        "fig.update_yaxes(type=\"log\")  # Set y-axis to logarithmic scale\n",
        "\n",
        "# Define the layout of the dashboard\n",
        "app.layout = html.Div([\n",
        "    dcc.Graph(id='bar-plot', figure=fig)\n",
        "])\n",
        "\n",
        "# Run the Dash app\n",
        "if __name__ == '__main__':\n",
        "    app.run_server(debug=True)"
      ]
    },
    {
      "cell_type": "code",
      "execution_count": null,
      "metadata": {
        "colab": {
          "background_save": true,
          "base_uri": "https://localhost:8080/",
          "height": 671
        },
        "id": "kk1afiXCP8MU",
        "outputId": "96f56545-e756-47d6-c1b3-ac0018d3067b"
      },
      "outputs": [
        {
          "data": {
            "application/javascript": [
              "(async (port, path, width, height, cache, element) => {\n",
              "    if (!google.colab.kernel.accessAllowed && !cache) {\n",
              "      return;\n",
              "    }\n",
              "    element.appendChild(document.createTextNode(''));\n",
              "    const url = await google.colab.kernel.proxyPort(port, {cache});\n",
              "    const iframe = document.createElement('iframe');\n",
              "    iframe.src = new URL(path, url).toString();\n",
              "    iframe.height = height;\n",
              "    iframe.width = width;\n",
              "    iframe.style.border = 0;\n",
              "    iframe.allow = [\n",
              "        'accelerometer',\n",
              "        'autoplay',\n",
              "        'camera',\n",
              "        'clipboard-read',\n",
              "        'clipboard-write',\n",
              "        'gyroscope',\n",
              "        'magnetometer',\n",
              "        'microphone',\n",
              "        'serial',\n",
              "        'usb',\n",
              "        'xr-spatial-tracking',\n",
              "    ].join('; ');\n",
              "    element.appendChild(iframe);\n",
              "  })(8050, \"/\", \"100%\", 650, false, window.element)"
            ],
            "text/plain": [
              "<IPython.core.display.Javascript object>"
            ]
          },
          "metadata": {},
          "output_type": "display_data"
        }
      ],
      "source": [
        "import dash\n",
        "from dash import dcc, html\n",
        "from dash.dependencies import Input, Output\n",
        "import pandas as pd\n",
        "import plotly.express as px\n",
        "\n",
        "# Load the CSV data from the provided link\n",
        "url = \"https://media.githubusercontent.com/media/sunshineluyao/icp-nns-db/main/data/proposals_no_empty.csv\"\n",
        "df = pd.read_csv(url)\n",
        "\n",
        "# Initialize the Dash app\n",
        "app = dash.Dash(__name__)\n",
        "\n",
        "# Create a bar plot using Plotly Express with a log-scale y-axis\n",
        "fig = px.bar(df['action'].value_counts(), x=df['action'].value_counts().index, y=df['action'].value_counts().values,labels={'x': 'Action', 'y': 'Count'}, title='Distribution of Actions')\n",
        "\n",
        "fig.update_yaxes(type=\"log\")  # Set y-axis to logarithmic scale\n",
        "\n",
        "# Define the layout of the dashboard\n",
        "app.layout = html.Div([\n",
        "    dcc.Dropdown(\n",
        "        id='status-dropdown',\n",
        "        options=[\n",
        "            {'label': status, 'value': status} for status in df['status'].unique()\n",
        "        ],\n",
        "        value=df['status'].unique()[0],  # Set default value to the first unique status\n",
        "        multi=False\n",
        "    ),\n",
        "    dcc.Graph(id='bar-plot')\n",
        "])\n",
        "\n",
        "# Create a callback to update the bar plot based on the selected status\n",
        "@app.callback(\n",
        "    Output('bar-plot', 'figure'),\n",
        "    Input('status-dropdown', 'value')\n",
        ")\n",
        "def update_bar_plot(selected_status):\n",
        "    filtered_df = df[df['status'] == selected_status]\n",
        "    fig = px.bar(filtered_df['action'].value_counts(), x=filtered_df['action'].value_counts().index,\n",
        "                 y=filtered_df['action'].value_counts().values, labels={'x': 'Action', 'y': 'Count'},\n",
        "                 title=f'Distribution of Actions for {selected_status} Proposals')\n",
        "    fig.update_yaxes(type=\"log\")  # Set y-axis to logarithmic scale\n",
        "    return fig\n",
        "\n",
        "# Run the Dash app\n",
        "if __name__ == '__main__':\n",
        "    app.run_server(debug=True)\n"
      ]
    },
    {
      "cell_type": "code",
      "execution_count": null,
      "metadata": {
        "colab": {
          "base_uri": "https://localhost:8080/",
          "height": 671
        },
        "id": "tpihvLFuYtDw",
        "outputId": "436981de-8a2d-4303-8b99-67359f65294b"
      },
      "outputs": [
        {
          "output_type": "display_data",
          "data": {
            "text/plain": [
              "<IPython.core.display.Javascript object>"
            ],
            "application/javascript": [
              "(async (port, path, width, height, cache, element) => {\n",
              "    if (!google.colab.kernel.accessAllowed && !cache) {\n",
              "      return;\n",
              "    }\n",
              "    element.appendChild(document.createTextNode(''));\n",
              "    const url = await google.colab.kernel.proxyPort(port, {cache});\n",
              "    const iframe = document.createElement('iframe');\n",
              "    iframe.src = new URL(path, url).toString();\n",
              "    iframe.height = height;\n",
              "    iframe.width = width;\n",
              "    iframe.style.border = 0;\n",
              "    iframe.allow = [\n",
              "        'accelerometer',\n",
              "        'autoplay',\n",
              "        'camera',\n",
              "        'clipboard-read',\n",
              "        'clipboard-write',\n",
              "        'gyroscope',\n",
              "        'magnetometer',\n",
              "        'microphone',\n",
              "        'serial',\n",
              "        'usb',\n",
              "        'xr-spatial-tracking',\n",
              "    ].join('; ');\n",
              "    element.appendChild(iframe);\n",
              "  })(8050, \"/\", \"100%\", 650, false, window.element)"
            ]
          },
          "metadata": {}
        }
      ],
      "source": [
        "import dash\n",
        "from dash import dcc, html\n",
        "from dash.dependencies import Input, Output\n",
        "import pandas as pd\n",
        "import plotly.express as px\n",
        "\n",
        "# Load the CSV data from the provided link\n",
        "url = \"https://media.githubusercontent.com/media/sunshineluyao/icp-nns-db/main/data/proposals_no_empty.csv\"\n",
        "df = pd.read_csv(url)\n",
        "\n",
        "# Initialize the Dash app\n",
        "app = dash.Dash(__name__)\n",
        "\n",
        "# Create a bar plot using Plotly Express with a log-scale y-axis\n",
        "fig = px.bar(df['action'].value_counts(), x=df['action'].value_counts().index, y=df['action'].value_counts().values, labels={'x': 'Action', 'y': 'Count'}, title='Distribution of Actions')\n",
        "fig.update_yaxes(type=\"log\")  # Set y-axis to logarithmic scale\n",
        "\n",
        "# Define the layout of the dashboard\n",
        "app.layout = html.Div([\n",
        "    # Header\n",
        "    html.H1(\"Internet Computer Protocol NNS Governance System Dashboard: Action\"),\n",
        "\n",
        "    # Paragraph with italicized notes\n",
        "    html.P([\n",
        "        \"Choose the proposal status to view the distributions of proposal actions. \",\n",
        "        html.I(\"Notes: Action is the type of action the proposal seeks, such as propose, reject, or execute; Status is the current standing of the proposal, be it pending, accepted, negated, or unsuccessful.\")\n",
        "    ]),\n",
        "\n",
        "    # Dropdown for status selection\n",
        "    dcc.Dropdown(\n",
        "        id='status-dropdown',\n",
        "        options=[{'label': status, 'value': status} for status in df['status'].unique()],\n",
        "        value=df['status'].unique()[0],  # Set default value to the first unique status\n",
        "        multi=False\n",
        "    ),\n",
        "\n",
        "    # Graph for displaying the data\n",
        "    dcc.Graph(id='bar-plot')\n",
        "])\n",
        "\n",
        "# Create a callback to update the bar plot based on the selected status\n",
        "@app.callback(\n",
        "    Output('bar-plot', 'figure'),\n",
        "    Input('status-dropdown', 'value')\n",
        ")\n",
        "def update_bar_plot(selected_status):\n",
        "    filtered_df = df[df['status'] == selected_status]\n",
        "    fig = px.bar(filtered_df['action'].value_counts(), x=filtered_df['action'].value_counts().index,\n",
        "                 y=filtered_df['action'].value_counts().values, labels={'x': 'Action', 'y': 'Count'},\n",
        "                 title=f'Distribution of Actions for {selected_status} Proposals')\n",
        "    fig.update_yaxes(type=\"log\")  # Set y-axis to logarithmic scale\n",
        "    return fig\n",
        "\n",
        "# Run the Dash app\n",
        "if __name__ == '__main__':\n",
        "    app.run_server(debug=True)\n"
      ]
    },
    {
      "cell_type": "code",
      "source": [
        "import dash\n",
        "from dash import dcc, html\n",
        "from dash.dependencies import Input, Output\n",
        "import pandas as pd\n",
        "import plotly.express as px\n",
        "\n",
        "# Load the CSV data from the provided link\n",
        "url = \"https://media.githubusercontent.com/media/sunshineluyao/icp-nns-db/main/data/proposals_no_empty.csv\"\n",
        "df = pd.read_csv(url)\n",
        "\n",
        "# Initialize the Dash app\n",
        "app = dash.Dash(__name__)\n",
        "\n",
        "# Create a bar plot using Plotly Express with a log-scale y-axis\n",
        "# Here, replace 'action' with 'action_nns_function'\n",
        "fig = px.bar(df['action_nns_function'].value_counts(), x=df['action_nns_function'].value_counts().index, y=df['action_nns_function'].value_counts().values, labels={'x': 'Action NNS Function', 'y': 'Count'}, title='Distribution of Action NNS Functions')\n",
        "fig.update_yaxes(type=\"log\")  # Set y-axis to logarithmic scale\n",
        "\n",
        "# Define the layout of the dashboard\n",
        "app.layout = html.Div([\n",
        "    # Header\n",
        "    html.H1(\"Internet Computer Protocol NNS Governance System Dashboard: Action NNS Function\"),\n",
        "\n",
        "    # Paragraph with italicized notes\n",
        "    html.P([\n",
        "        \"Choose the proposal status to view the distributions of proposal action nns function. \",\n",
        "        html.I(\"Notes: Action NNS Function is the specific NNS function targeted by the proposal; Status is the current standing of the proposal, be it pending, accepted, negated, or unsuccessful.\")\n",
        "    ]),\n",
        "\n",
        "    dcc.Dropdown(\n",
        "        id='status-dropdown',\n",
        "        options=[\n",
        "            {'label': status, 'value': status} for status in df['status'].unique()\n",
        "        ],\n",
        "        value=df['status'].unique()[0],  # Set default value to the first unique status\n",
        "        multi=False\n",
        "    ),\n",
        "    dcc.Graph(id='bar-plot')\n",
        "])\n",
        "\n",
        "# Create a callback to update the bar plot based on the selected status\n",
        "@app.callback(\n",
        "    Output('bar-plot', 'figure'),\n",
        "    Input('status-dropdown', 'value')\n",
        ")\n",
        "def update_bar_plot(selected_status):\n",
        "    # Update here as well to use 'action_nns_function' instead of 'action'\n",
        "    filtered_df = df[df['status'] == selected_status]\n",
        "    fig = px.bar(filtered_df['action_nns_function'].value_counts(), x=filtered_df['action_nns_function'].value_counts().index, y=filtered_df['action_nns_function'].value_counts().values, labels={'x': 'Action NNS Function', 'y': 'Count'}, title=f'Distribution of Action NNS Functions for {selected_status} Proposals')\n",
        "    fig.update_yaxes(type=\"log\")  # Set y-axis to logarithmic scale\n",
        "    return fig\n",
        "\n",
        "# Run the Dash app\n",
        "if __name__ == '__main__':\n",
        "    app.run_server(debug=True)\n"
      ],
      "metadata": {
        "colab": {
          "base_uri": "https://localhost:8080/",
          "height": 671
        },
        "id": "aiy2CzR4Ta5o",
        "outputId": "b71f32a9-3f90-4734-eb41-79c2060fbe64"
      },
      "execution_count": null,
      "outputs": [
        {
          "output_type": "display_data",
          "data": {
            "text/plain": [
              "<IPython.core.display.Javascript object>"
            ],
            "application/javascript": [
              "(async (port, path, width, height, cache, element) => {\n",
              "    if (!google.colab.kernel.accessAllowed && !cache) {\n",
              "      return;\n",
              "    }\n",
              "    element.appendChild(document.createTextNode(''));\n",
              "    const url = await google.colab.kernel.proxyPort(port, {cache});\n",
              "    const iframe = document.createElement('iframe');\n",
              "    iframe.src = new URL(path, url).toString();\n",
              "    iframe.height = height;\n",
              "    iframe.width = width;\n",
              "    iframe.style.border = 0;\n",
              "    iframe.allow = [\n",
              "        'accelerometer',\n",
              "        'autoplay',\n",
              "        'camera',\n",
              "        'clipboard-read',\n",
              "        'clipboard-write',\n",
              "        'gyroscope',\n",
              "        'magnetometer',\n",
              "        'microphone',\n",
              "        'serial',\n",
              "        'usb',\n",
              "        'xr-spatial-tracking',\n",
              "    ].join('; ');\n",
              "    element.appendChild(iframe);\n",
              "  })(8050, \"/\", \"100%\", 650, false, window.element)"
            ]
          },
          "metadata": {}
        }
      ]
    },
    {
      "cell_type": "code",
      "source": [
        "import dash\n",
        "from dash import dcc, html\n",
        "from dash.dependencies import Input, Output\n",
        "import pandas as pd\n",
        "import plotly.express as px\n",
        "\n",
        "# Load the CSV data from the provided link\n",
        "url = \"https://media.githubusercontent.com/media/sunshineluyao/icp-nns-db/main/data/proposals_no_empty.csv\"\n",
        "df = pd.read_csv(url)\n",
        "\n",
        "# Initialize the Dash app\n",
        "app = dash.Dash(__name__)\n",
        "\n",
        "# Create a bar plot using Plotly Express with a log-scale y-axis\n",
        "# Replace 'action' with 'topic' in the plot creation\n",
        "fig = px.bar(df['topic'].value_counts(), x=df['topic'].value_counts().index, y=df['topic'].value_counts().values, labels={'x': 'Topic', 'y': 'Count'}, title='Distribution of Topics')\n",
        "fig.update_yaxes(type=\"log\")  # Set y-axis to logarithmic scale\n",
        "\n",
        "# Define the layout of the dashboard\n",
        "app.layout = html.Div([\n",
        "    html.H1(\"Internet Computer Protocol NNS Governance System Dashboard: Topic\"),\n",
        "\n",
        "    html.P([\n",
        "        \"Choose the proposal status to view the distributions of proposal topics. \",\n",
        "        html.I(\"Notes: Topic is the main subject of the proposal; Status is the current standing of the proposal, be it pending, accepted, negated, or unsuccessful.\")\n",
        "    ]),\n",
        "\n",
        "    dcc.Dropdown(\n",
        "        id='status-dropdown',\n",
        "        options=[{'label': status, 'value': status} for status in df['status'].unique()],\n",
        "        value=df['status'].unique()[0],\n",
        "        multi=False\n",
        "    ),\n",
        "\n",
        "    dcc.Graph(id='bar-plot')\n",
        "])\n",
        "\n",
        "# Create a callback to update the bar plot based on the selected status\n",
        "@app.callback(\n",
        "    Output('bar-plot', 'figure'),\n",
        "    Input('status-dropdown', 'value')\n",
        ")\n",
        "def update_bar_plot(selected_status):\n",
        "    # Update here as well to use 'topic' instead of 'action'\n",
        "    filtered_df = df[df['status'] == selected_status]\n",
        "    fig = px.bar(filtered_df['topic'].value_counts(), x=filtered_df['topic'].value_counts().index,\n",
        "                 y=filtered_df['topic'].value_counts().values, labels={'x': 'Topic', 'y': 'Count'},\n",
        "                 title=f'Distribution of Topics for {selected_status} Proposals')\n",
        "    fig.update_yaxes(type=\"log\")  # Set y-axis to logarithmic scale\n",
        "    return fig\n",
        "\n",
        "# Run the Dash app\n",
        "if __name__ == '__main__':\n",
        "    app.run_server(debug=True)\n"
      ],
      "metadata": {
        "colab": {
          "base_uri": "https://localhost:8080/",
          "height": 671
        },
        "id": "xdcrHDECWZ_z",
        "outputId": "aea7136f-58fe-40dd-b9cc-970f6dbe38f1"
      },
      "execution_count": null,
      "outputs": [
        {
          "output_type": "display_data",
          "data": {
            "text/plain": [
              "<IPython.core.display.Javascript object>"
            ],
            "application/javascript": [
              "(async (port, path, width, height, cache, element) => {\n",
              "    if (!google.colab.kernel.accessAllowed && !cache) {\n",
              "      return;\n",
              "    }\n",
              "    element.appendChild(document.createTextNode(''));\n",
              "    const url = await google.colab.kernel.proxyPort(port, {cache});\n",
              "    const iframe = document.createElement('iframe');\n",
              "    iframe.src = new URL(path, url).toString();\n",
              "    iframe.height = height;\n",
              "    iframe.width = width;\n",
              "    iframe.style.border = 0;\n",
              "    iframe.allow = [\n",
              "        'accelerometer',\n",
              "        'autoplay',\n",
              "        'camera',\n",
              "        'clipboard-read',\n",
              "        'clipboard-write',\n",
              "        'gyroscope',\n",
              "        'magnetometer',\n",
              "        'microphone',\n",
              "        'serial',\n",
              "        'usb',\n",
              "        'xr-spatial-tracking',\n",
              "    ].join('; ');\n",
              "    element.appendChild(iframe);\n",
              "  })(8050, \"/\", \"100%\", 650, false, window.element)"
            ]
          },
          "metadata": {}
        }
      ]
    },
    {
      "cell_type": "code",
      "source": [
        "import dash\n",
        "from dash import dcc, html\n",
        "from dash.dependencies import Input, Output\n",
        "import pandas as pd\n",
        "import plotly.express as px\n",
        "\n",
        "# Load the CSV data from the provided link\n",
        "url = \"https://media.githubusercontent.com/media/sunshineluyao/icp-nns-db/main/data/proposals_no_empty.csv\"\n",
        "df = pd.read_csv(url)\n",
        "\n",
        "# Prepare data for the line plot\n",
        "action_nns_function_counts = df['action_nns_function'].value_counts().reset_index()\n",
        "action_nns_function_counts.columns = ['Action NNS Function', 'Count']\n",
        "\n",
        "# Initialize the Dash app\n",
        "app = dash.Dash(__name__)\n",
        "\n",
        "# Create a line plot using Plotly Express with a log-scale y-axis\n",
        "fig = px.line(action_nns_function_counts, x='Action NNS Function', y='Count', title='Distribution of Action NNS Functions', markers=True, line_shape='linear')\n",
        "fig.update_traces(line_color='green')  # Set the line color to green\n",
        "fig.update_yaxes(type=\"log\")  # Set y-axis to logarithmic scale\n",
        "\n",
        "# Define the layout of the dashboard\n",
        "app.layout = html.Div([\n",
        "    html.H1(\"Internet Computer Protocol NNS Governance System Dashboard: Action NNS Function\"),\n",
        "\n",
        "    html.P([\n",
        "        \"Choose the proposal status to view the distributions of proposal action nns function. \",\n",
        "        html.I(\"Notes: Action NNS Function is the specific NNS function targeted by the proposal; Status is the current standing of the proposal, be it pending, accepted, negated, or unsuccessful.\")\n",
        "    ]),\n",
        "\n",
        "    dcc.Dropdown(\n",
        "        id='status-dropdown',\n",
        "        options=[\n",
        "            {'label': status, 'value': status} for status in df['status'].unique()\n",
        "        ],\n",
        "        value=df['status'].unique()[0],\n",
        "        multi=False\n",
        "    ),\n",
        "    dcc.Graph(id='bar-plot', figure=fig)  # Set the initial figure to the line plot\n",
        "])\n",
        "\n",
        "# Create a callback to update the plot based on the selected status\n",
        "@app.callback(\n",
        "    Output('bar-plot', 'figure'),\n",
        "    Input('status-dropdown', 'value')\n",
        ")\n",
        "def update_bar_plot(selected_status):\n",
        "    filtered_df = df[df['status'] == selected_status]\n",
        "    action_nns_function_counts_filtered = filtered_df['action_nns_function'].value_counts().reset_index()\n",
        "    action_nns_function_counts_filtered.columns = ['Action NNS Function', 'Count']\n",
        "\n",
        "    fig = px.line(action_nns_function_counts_filtered, x='Action NNS Function', y='Count', title=f'Distribution of Action NNS Functions for {selected_status} Proposals', markers=True, line_shape='linear')\n",
        "    fig.update_traces(line_color='green')  # Set the line color to green\n",
        "    fig.update_yaxes(type=\"log\")  # Set y-axis to logarithmic scale\n",
        "    return fig\n",
        "\n",
        "# Run the Dash app\n",
        "if __name__ == '__main__':\n",
        "    app.run_server(debug=True)\n"
      ],
      "metadata": {
        "colab": {
          "base_uri": "https://localhost:8080/",
          "height": 671
        },
        "id": "Ae23Rx43XO_u",
        "outputId": "5affbcba-2462-460d-c6cd-6e74f3bc908f"
      },
      "execution_count": null,
      "outputs": [
        {
          "output_type": "display_data",
          "data": {
            "text/plain": [
              "<IPython.core.display.Javascript object>"
            ],
            "application/javascript": [
              "(async (port, path, width, height, cache, element) => {\n",
              "    if (!google.colab.kernel.accessAllowed && !cache) {\n",
              "      return;\n",
              "    }\n",
              "    element.appendChild(document.createTextNode(''));\n",
              "    const url = await google.colab.kernel.proxyPort(port, {cache});\n",
              "    const iframe = document.createElement('iframe');\n",
              "    iframe.src = new URL(path, url).toString();\n",
              "    iframe.height = height;\n",
              "    iframe.width = width;\n",
              "    iframe.style.border = 0;\n",
              "    iframe.allow = [\n",
              "        'accelerometer',\n",
              "        'autoplay',\n",
              "        'camera',\n",
              "        'clipboard-read',\n",
              "        'clipboard-write',\n",
              "        'gyroscope',\n",
              "        'magnetometer',\n",
              "        'microphone',\n",
              "        'serial',\n",
              "        'usb',\n",
              "        'xr-spatial-tracking',\n",
              "    ].join('; ');\n",
              "    element.appendChild(iframe);\n",
              "  })(8050, \"/\", \"100%\", 650, false, window.element)"
            ]
          },
          "metadata": {}
        }
      ]
    },
    {
      "cell_type": "code",
      "source": [
        "import dash\n",
        "from dash import dcc, html\n",
        "from dash.dependencies import Input, Output\n",
        "import pandas as pd\n",
        "import plotly.express as px\n",
        "\n",
        "# Load the CSV data from the provided link\n",
        "url = \"https://media.githubusercontent.com/media/sunshineluyao/icp-nns-db/main/data/proposals_no_empty.csv\"\n",
        "df = pd.read_csv(url)\n",
        "\n",
        "# Initialize the Dash app\n",
        "app = dash.Dash(__name__)\n",
        "\n",
        "# Prepare data for the treemap\n",
        "topic_counts = df['topic'].value_counts().reset_index()\n",
        "topic_counts.columns = ['Topic', 'Count']\n",
        "\n",
        "# Create a treemap using Plotly Express\n",
        "fig = px.treemap(topic_counts, path=['Topic'], values='Count', title='Distribution of Topics')\n",
        "fig.update_traces(marker=dict(colors=['pink']))  # Set the color to pink\n",
        "\n",
        "# Define the layout of the dashboard\n",
        "app.layout = html.Div([\n",
        "    html.H1(\"Internet Computer Protocol NNS Governance System Dashboard: Topic\"),\n",
        "\n",
        "    html.P([\n",
        "        \"Choose the proposal status to view the distributions of proposal topics. \",\n",
        "        html.I(\"Notes: Topic is the main subject of the proposal; Status is the current standing of the proposal, be it pending, accepted, negated, or unsuccessful.\")\n",
        "    ]),\n",
        "\n",
        "    dcc.Dropdown(\n",
        "        id='status-dropdown',\n",
        "        options=[{'label': status, 'value': status} for status in df['status'].unique()],\n",
        "        value=df['status'].unique()[0],\n",
        "        multi=False\n",
        "    ),\n",
        "\n",
        "    dcc.Graph(id='bar-plot', figure=fig)  # Set the initial figure to the treemap\n",
        "])\n",
        "\n",
        "# Create a callback to update the treemap based on the selected status\n",
        "@app.callback(\n",
        "    Output('bar-plot', 'figure'),\n",
        "    Input('status-dropdown', 'value')\n",
        ")\n",
        "def update_bar_plot(selected_status):\n",
        "    filtered_df = df[df['status'] == selected_status]\n",
        "    topic_counts_filtered = filtered_df['topic'].value_counts().reset_index()\n",
        "    topic_counts_filtered.columns = ['Topic', 'Count']\n",
        "\n",
        "    fig = px.treemap(topic_counts_filtered, path=['Topic'], values='Count', title=f'Distribution of Topics for {selected_status} Proposals')\n",
        "    fig.update_traces(marker=dict(colors=['pink']))  # Set the color to pink\n",
        "    return fig\n",
        "\n",
        "# Run the Dash app\n",
        "if __name__ == '__main__':\n",
        "    app.run_server(debug=True)\n"
      ],
      "metadata": {
        "colab": {
          "base_uri": "https://localhost:8080/",
          "height": 671
        },
        "id": "O0pdHRKpYMdy",
        "outputId": "4d8bb435-be0c-46ca-e9e0-754d6252336e"
      },
      "execution_count": null,
      "outputs": [
        {
          "output_type": "display_data",
          "data": {
            "text/plain": [
              "<IPython.core.display.Javascript object>"
            ],
            "application/javascript": [
              "(async (port, path, width, height, cache, element) => {\n",
              "    if (!google.colab.kernel.accessAllowed && !cache) {\n",
              "      return;\n",
              "    }\n",
              "    element.appendChild(document.createTextNode(''));\n",
              "    const url = await google.colab.kernel.proxyPort(port, {cache});\n",
              "    const iframe = document.createElement('iframe');\n",
              "    iframe.src = new URL(path, url).toString();\n",
              "    iframe.height = height;\n",
              "    iframe.width = width;\n",
              "    iframe.style.border = 0;\n",
              "    iframe.allow = [\n",
              "        'accelerometer',\n",
              "        'autoplay',\n",
              "        'camera',\n",
              "        'clipboard-read',\n",
              "        'clipboard-write',\n",
              "        'gyroscope',\n",
              "        'magnetometer',\n",
              "        'microphone',\n",
              "        'serial',\n",
              "        'usb',\n",
              "        'xr-spatial-tracking',\n",
              "    ].join('; ');\n",
              "    element.appendChild(iframe);\n",
              "  })(8050, \"/\", \"100%\", 650, false, window.element)"
            ]
          },
          "metadata": {}
        }
      ]
    }
  ],
  "metadata": {
    "colab": {
      "cell_execution_strategy": "setup",
      "machine_shape": "hm",
      "provenance": [],
      "authorship_tag": "ABX9TyPczRQyM6fafiSKCOwShTBq",
      "include_colab_link": true
    },
    "kernelspec": {
      "display_name": "Python 3",
      "name": "python3"
    },
    "language_info": {
      "name": "python"
    }
  },
  "nbformat": 4,
  "nbformat_minor": 0
}